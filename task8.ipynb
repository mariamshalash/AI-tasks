{
 "cells": [
  {
   "cell_type": "markdown",
   "id": "c1aec2ba",
   "metadata": {},
   "source": [
    "# 1)task 8"
   ]
  },
  {
   "cell_type": "code",
   "execution_count": 44,
   "id": "57c93e62",
   "metadata": {},
   "outputs": [
    {
     "name": "stdout",
     "output_type": "stream",
     "text": [
      "Ahmed Hafez 0102345678 ahmed@gmail.com , Ali Osama 0124342342 ali@gmail.com\n",
      "0102345678\n",
      "0124342342\n",
      "numbers: ['0102345678', '0124342342']\n",
      "Ahmed Hafez\n",
      "Ali Osama\n",
      "names: ['Ahmed Hafez', 'Ali Osama']\n",
      "ahmed@gmail.com\n",
      "ali@gmail.com\n",
      "mails: ['ahmed@gmail.com', 'ali@gmail.com']\n"
     ]
    }
   ],
   "source": [
    "import re\n",
    "t = open(\"text.txt\", \"r\")\n",
    "f=t.read()\n",
    "print(f)\n",
    "\n",
    "names=[]\n",
    "numbers=[]\n",
    "mails=[]\n",
    "\n",
    "pattern=re.compile(\"\\d{10}\")\n",
    "matches=pattern.finditer(f)\n",
    "for match in matches:\n",
    "    numbers.append(match.group())\n",
    "    print(match.group())\n",
    "#numbers=pattern.groups()    \n",
    "print(\"numbers:\", numbers)\n",
    "\n",
    "pattern=re.compile(\"[a-zA-Z]+\\s[a-zA-Z]+\")\n",
    "matches1=pattern.finditer(f)\n",
    "for match1 in matches1:\n",
    "    names.append(match1.group())\n",
    "    print(match1.group())\n",
    "print('names:',names)    \n",
    "    \n",
    "pattern=re.compile(\"[A-z]+@[A-z]+.com\")\n",
    "matches2=pattern.finditer(f)\n",
    "for match2 in matches2:\n",
    "    mails.append(match2.group())\n",
    "    print(match2.group()) \n",
    "print('mails:',mails)    "
   ]
  },
  {
   "cell_type": "markdown",
   "id": "34fe764f",
   "metadata": {},
   "source": [
    "# 2)advanced-1"
   ]
  },
  {
   "cell_type": "code",
   "execution_count": 7,
   "id": "09dd6b13",
   "metadata": {},
   "outputs": [
    {
     "name": "stdout",
     "output_type": "stream",
     "text": [
      "Ahmed Hafez ahmed@gmail.com 0102345678 \n",
      "0124342342 Ali Osama ali@gmail.com \n",
      "0102345678\n",
      "0124342342\n",
      "numbers: ['0102345678', '0124342342']\n",
      "Ahmed Hafez\n",
      "Ali Osama\n",
      "names: ['Ahmed Hafez', 'Ali Osama']\n",
      "ahmed@gmail.com\n",
      "ali@gmail.com\n",
      "mails: ['ahmed@gmail.com', 'ali@gmail.com']\n"
     ]
    }
   ],
   "source": [
    "import re\n",
    "x = open(\"adv1.txt\", \"r\")\n",
    "t=x.read()\n",
    "print(t)\n",
    "\n",
    "names=[]\n",
    "numbers=[]\n",
    "mails=[]\n",
    "\n",
    "pattern=re.compile(\"\\d{10}\")\n",
    "matches=pattern.finditer(t)\n",
    "for match in matches:\n",
    "    numbers.append(match.group())\n",
    "    print(match.group())\n",
    "#numbers=pattern.groups()    \n",
    "print(\"numbers:\", numbers)\n",
    "\n",
    "pattern=re.compile(\"[a-zA-Z]+\\s[a-zA-Z]+\")\n",
    "matches1=pattern.finditer(t)\n",
    "for match1 in matches1:\n",
    "    names.append(match1.group())\n",
    "    print(match1.group())\n",
    "print('names:',names)    \n",
    "    \n",
    "pattern=re.compile(\"[A-z]+@[A-z]+.com\")\n",
    "matches2=pattern.finditer(t)\n",
    "for match2 in matches2:\n",
    "    mails.append(match2.group())\n",
    "    print(match2.group()) \n",
    "print('mails:',mails)    "
   ]
  },
  {
   "cell_type": "markdown",
   "id": "00a8ee41",
   "metadata": {},
   "source": [
    "# 3)advanced-2"
   ]
  },
  {
   "cell_type": "code",
   "execution_count": 9,
   "id": "83d891aa",
   "metadata": {},
   "outputs": [
    {
     "name": "stdout",
     "output_type": "stream",
     "text": [
      "Ahmed Hafez-0102345678-ahmed@gmail.com \n",
      "Ali Osama-0124342342-ali@gmail.com\n",
      "0102345678\n",
      "0124342342\n",
      "numbers: ['0102345678', '0124342342']\n",
      "Ahmed Hafez\n",
      "Ali Osama\n",
      "names: ['Ahmed Hafez', 'Ali Osama']\n",
      "ahmed@gmail.com\n",
      "ali@gmail.com\n",
      "mails: ['ahmed@gmail.com', 'ali@gmail.com']\n"
     ]
    }
   ],
   "source": [
    "import re\n",
    "x = open(\"adv2.txt\", \"r\")\n",
    "t=x.read()\n",
    "print(t)\n",
    "\n",
    "names=[]\n",
    "numbers=[]\n",
    "mails=[]\n",
    "\n",
    "pattern=re.compile(\"\\d{10}\")\n",
    "matches=pattern.finditer(t)\n",
    "for match in matches:\n",
    "    numbers.append(match.group())\n",
    "    print(match.group())\n",
    "#numbers=pattern.groups()    \n",
    "print(\"numbers:\", numbers)\n",
    "\n",
    "pattern=re.compile(\"[a-zA-Z]+\\s[a-zA-Z]+\")\n",
    "matches1=pattern.finditer(t)\n",
    "for match1 in matches1:\n",
    "    names.append(match1.group())\n",
    "    print(match1.group())\n",
    "print('names:',names)    \n",
    "    \n",
    "pattern=re.compile(\"[A-z]+@[A-z]+.com\")\n",
    "matches2=pattern.finditer(t)\n",
    "for match2 in matches2:\n",
    "    mails.append(match2.group())\n",
    "    print(match2.group()) \n",
    "print('mails:',mails)    "
   ]
  },
  {
   "cell_type": "code",
   "execution_count": null,
   "id": "88117e0a",
   "metadata": {},
   "outputs": [],
   "source": []
  }
 ],
 "metadata": {
  "kernelspec": {
   "display_name": "Python 3 (ipykernel)",
   "language": "python",
   "name": "python3"
  },
  "language_info": {
   "codemirror_mode": {
    "name": "ipython",
    "version": 3
   },
   "file_extension": ".py",
   "mimetype": "text/x-python",
   "name": "python",
   "nbconvert_exporter": "python",
   "pygments_lexer": "ipython3",
   "version": "3.11.4"
  }
 },
 "nbformat": 4,
 "nbformat_minor": 5
}
